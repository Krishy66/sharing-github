{
 "cells": [
  {
   "cell_type": "code",
   "execution_count": 17,
   "metadata": {},
   "outputs": [],
   "source": [
    "import numpy as np"
   ]
  },
  {
   "cell_type": "code",
   "execution_count": 18,
   "metadata": {},
   "outputs": [],
   "source": [
    "# sigmoid function\n",
    "def nonlin(x,deriv=False):\n",
    "    if(deriv==True):\n",
    "        return x*(1-x)\n",
    "    return 1/(1+np.exp(-x))"
   ]
  },
  {
   "cell_type": "code",
   "execution_count": 19,
   "metadata": {},
   "outputs": [],
   "source": [
    "# input dataset\n",
    "X = np.array([  [0,0,1],\n",
    "                 [0,1,1],\n",
    "                 [1,0,1], \n",
    "                 [1,1,1] ])"
   ]
  },
  {
   "cell_type": "code",
   "execution_count": 20,
   "metadata": {},
   "outputs": [],
   "source": [
    "# output dataset           \n",
    "y = np.array([[0,0,1,1]]).T"
   ]
  },
  {
   "cell_type": "code",
   "execution_count": 21,
   "metadata": {},
   "outputs": [],
   "source": [
    "# seed random numbers to make calculation\n",
    "# deterministic\n",
    "np.random.seed(1)"
   ]
  },
  {
   "cell_type": "code",
   "execution_count": 22,
   "metadata": {},
   "outputs": [],
   "source": [
    "# initialize weights randomly with mean 0\n",
    "syn0 = 2*np.random.random((3,4)) - 1\n",
    "syn1 = 2*np.random.random((4,1)) - 1"
   ]
  },
  {
   "cell_type": "code",
   "execution_count": 23,
   "metadata": {},
   "outputs": [
    {
     "name": "stdout",
     "output_type": "stream",
     "text": [
      "Error:0.4685343254580603\n",
      "Error:0.005002426725395313\n",
      "Error:0.0034544054615330507\n",
      "Error:0.0027865570196723556\n",
      "Error:0.002394115505520978\n",
      "Error:0.0021288852682254155\n",
      "Error:0.0019345138429660484\n",
      "Error:0.0017843131378068374\n",
      "Error:0.0016638109264189365\n",
      "Error:0.0015643959888342659\n"
     ]
    }
   ],
   "source": [
    "for j in range(100000):\n",
    "    # Feed forward through layers 0, 1, and 2\n",
    "    l0 = X #input layer\n",
    "    l1 = nonlin(np.dot(l0,syn0)) #hidden layer\n",
    "    l2 = nonlin(np.dot(l1,syn1)) #output layer\n",
    "    \n",
    "    # how much did we miss the target value?\n",
    "    l2_error = y - l2\n",
    "\n",
    "    if (j% 10000) == 0: #check the error change for every 10000 epochs\n",
    "        print(\"Error:\" + str(np.mean(np.abs(l2_error))))\n",
    "\n",
    "    # in what direction is the target value?\n",
    "    l2_delta = l2_error * nonlin(l2,deriv=True)\n",
    "    \n",
    "    # how much did each l1 value contribute to the l2 error (according to the weights)?\n",
    "    l1_error = l2_delta.dot(syn1.T)\n",
    "\n",
    "    # in what direction is the target l1?\n",
    "    l1_delta = l1_error * nonlin(l1,deriv=True)\n",
    "    syn1 += l1.T.dot(l2_delta)\n",
    "    syn0 += l0.T.dot(l1_delta)\n",
    "    \n",
    " "
   ]
  },
  {
   "cell_type": "code",
   "execution_count": null,
   "metadata": {},
   "outputs": [],
   "source": []
  },
  {
   "cell_type": "code",
   "execution_count": null,
   "metadata": {},
   "outputs": [],
   "source": []
  },
  {
   "cell_type": "code",
   "execution_count": null,
   "metadata": {},
   "outputs": [],
   "source": []
  },
  {
   "cell_type": "code",
   "execution_count": null,
   "metadata": {},
   "outputs": [],
   "source": []
  }
 ],
 "metadata": {
  "kernelspec": {
   "display_name": "Python 3",
   "language": "python",
   "name": "python3"
  },
  "language_info": {
   "codemirror_mode": {
    "name": "ipython",
    "version": 3
   },
   "file_extension": ".py",
   "mimetype": "text/x-python",
   "name": "python",
   "nbconvert_exporter": "python",
   "pygments_lexer": "ipython3",
   "version": "3.6.5"
  }
 },
 "nbformat": 4,
 "nbformat_minor": 2
}
